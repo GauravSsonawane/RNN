{
 "cells": [
  {
   "cell_type": "code",
   "execution_count": 44,
   "metadata": {},
   "outputs": [],
   "source": [
    "# Step 1 Import Lib and load the model\n",
    "\n",
    "import numpy as np\n",
    "import tensorflow as tf\n",
    "from tensorflow.keras.datasets import imdb\n",
    "from tensorflow.keras.preprocessing import sequence\n",
    "from tensorflow.keras.models import load_model"
   ]
  },
  {
   "cell_type": "code",
   "execution_count": 45,
   "metadata": {},
   "outputs": [],
   "source": [
    "# Load the IMDB word index\n",
    "\n",
    "word_index = imdb.get_word_index()\n",
    "reverse_word_index = {value: key for key, value in word_index.items() }"
   ]
  },
  {
   "cell_type": "code",
   "execution_count": 46,
   "metadata": {},
   "outputs": [
    {
     "name": "stderr",
     "output_type": "stream",
     "text": [
      "WARNING:absl:Compiled the loaded model, but the compiled metrics have yet to be built. `model.compile_metrics` will be empty until you train or evaluate the model.\n"
     ]
    },
    {
     "data": {
      "text/html": [
       "<pre style=\"white-space:pre;overflow-x:auto;line-height:normal;font-family:Menlo,'DejaVu Sans Mono',consolas,'Courier New',monospace\"><span style=\"font-weight: bold\">Model: \"sequential_3\"</span>\n",
       "</pre>\n"
      ],
      "text/plain": [
       "\u001b[1mModel: \"sequential_3\"\u001b[0m\n"
      ]
     },
     "metadata": {},
     "output_type": "display_data"
    },
    {
     "data": {
      "text/html": [
       "<pre style=\"white-space:pre;overflow-x:auto;line-height:normal;font-family:Menlo,'DejaVu Sans Mono',consolas,'Courier New',monospace\">┏━━━━━━━━━━━━━━━━━━━━━━━━━━━━━━━━━┳━━━━━━━━━━━━━━━━━━━━━━━━┳━━━━━━━━━━━━━━━┓\n",
       "┃<span style=\"font-weight: bold\"> Layer (type)                    </span>┃<span style=\"font-weight: bold\"> Output Shape           </span>┃<span style=\"font-weight: bold\">       Param # </span>┃\n",
       "┡━━━━━━━━━━━━━━━━━━━━━━━━━━━━━━━━━╇━━━━━━━━━━━━━━━━━━━━━━━━╇━━━━━━━━━━━━━━━┩\n",
       "│ embedding_3 (<span style=\"color: #0087ff; text-decoration-color: #0087ff\">Embedding</span>)         │ (<span style=\"color: #00af00; text-decoration-color: #00af00\">32</span>, <span style=\"color: #00af00; text-decoration-color: #00af00\">500</span>, <span style=\"color: #00af00; text-decoration-color: #00af00\">128</span>)         │     <span style=\"color: #00af00; text-decoration-color: #00af00\">1,280,000</span> │\n",
       "├─────────────────────────────────┼────────────────────────┼───────────────┤\n",
       "│ simple_rnn_3 (<span style=\"color: #0087ff; text-decoration-color: #0087ff\">SimpleRNN</span>)        │ (<span style=\"color: #00af00; text-decoration-color: #00af00\">32</span>, <span style=\"color: #00af00; text-decoration-color: #00af00\">128</span>)              │        <span style=\"color: #00af00; text-decoration-color: #00af00\">32,896</span> │\n",
       "├─────────────────────────────────┼────────────────────────┼───────────────┤\n",
       "│ dense_3 (<span style=\"color: #0087ff; text-decoration-color: #0087ff\">Dense</span>)                 │ (<span style=\"color: #00af00; text-decoration-color: #00af00\">32</span>, <span style=\"color: #00af00; text-decoration-color: #00af00\">1</span>)                │           <span style=\"color: #00af00; text-decoration-color: #00af00\">129</span> │\n",
       "└─────────────────────────────────┴────────────────────────┴───────────────┘\n",
       "</pre>\n"
      ],
      "text/plain": [
       "┏━━━━━━━━━━━━━━━━━━━━━━━━━━━━━━━━━┳━━━━━━━━━━━━━━━━━━━━━━━━┳━━━━━━━━━━━━━━━┓\n",
       "┃\u001b[1m \u001b[0m\u001b[1mLayer (type)                   \u001b[0m\u001b[1m \u001b[0m┃\u001b[1m \u001b[0m\u001b[1mOutput Shape          \u001b[0m\u001b[1m \u001b[0m┃\u001b[1m \u001b[0m\u001b[1m      Param #\u001b[0m\u001b[1m \u001b[0m┃\n",
       "┡━━━━━━━━━━━━━━━━━━━━━━━━━━━━━━━━━╇━━━━━━━━━━━━━━━━━━━━━━━━╇━━━━━━━━━━━━━━━┩\n",
       "│ embedding_3 (\u001b[38;5;33mEmbedding\u001b[0m)         │ (\u001b[38;5;34m32\u001b[0m, \u001b[38;5;34m500\u001b[0m, \u001b[38;5;34m128\u001b[0m)         │     \u001b[38;5;34m1,280,000\u001b[0m │\n",
       "├─────────────────────────────────┼────────────────────────┼───────────────┤\n",
       "│ simple_rnn_3 (\u001b[38;5;33mSimpleRNN\u001b[0m)        │ (\u001b[38;5;34m32\u001b[0m, \u001b[38;5;34m128\u001b[0m)              │        \u001b[38;5;34m32,896\u001b[0m │\n",
       "├─────────────────────────────────┼────────────────────────┼───────────────┤\n",
       "│ dense_3 (\u001b[38;5;33mDense\u001b[0m)                 │ (\u001b[38;5;34m32\u001b[0m, \u001b[38;5;34m1\u001b[0m)                │           \u001b[38;5;34m129\u001b[0m │\n",
       "└─────────────────────────────────┴────────────────────────┴───────────────┘\n"
      ]
     },
     "metadata": {},
     "output_type": "display_data"
    },
    {
     "data": {
      "text/html": [
       "<pre style=\"white-space:pre;overflow-x:auto;line-height:normal;font-family:Menlo,'DejaVu Sans Mono',consolas,'Courier New',monospace\"><span style=\"font-weight: bold\"> Total params: </span><span style=\"color: #00af00; text-decoration-color: #00af00\">1,313,027</span> (5.01 MB)\n",
       "</pre>\n"
      ],
      "text/plain": [
       "\u001b[1m Total params: \u001b[0m\u001b[38;5;34m1,313,027\u001b[0m (5.01 MB)\n"
      ]
     },
     "metadata": {},
     "output_type": "display_data"
    },
    {
     "data": {
      "text/html": [
       "<pre style=\"white-space:pre;overflow-x:auto;line-height:normal;font-family:Menlo,'DejaVu Sans Mono',consolas,'Courier New',monospace\"><span style=\"font-weight: bold\"> Trainable params: </span><span style=\"color: #00af00; text-decoration-color: #00af00\">1,313,025</span> (5.01 MB)\n",
       "</pre>\n"
      ],
      "text/plain": [
       "\u001b[1m Trainable params: \u001b[0m\u001b[38;5;34m1,313,025\u001b[0m (5.01 MB)\n"
      ]
     },
     "metadata": {},
     "output_type": "display_data"
    },
    {
     "data": {
      "text/html": [
       "<pre style=\"white-space:pre;overflow-x:auto;line-height:normal;font-family:Menlo,'DejaVu Sans Mono',consolas,'Courier New',monospace\"><span style=\"font-weight: bold\"> Non-trainable params: </span><span style=\"color: #00af00; text-decoration-color: #00af00\">0</span> (0.00 B)\n",
       "</pre>\n"
      ],
      "text/plain": [
       "\u001b[1m Non-trainable params: \u001b[0m\u001b[38;5;34m0\u001b[0m (0.00 B)\n"
      ]
     },
     "metadata": {},
     "output_type": "display_data"
    },
    {
     "data": {
      "text/html": [
       "<pre style=\"white-space:pre;overflow-x:auto;line-height:normal;font-family:Menlo,'DejaVu Sans Mono',consolas,'Courier New',monospace\"><span style=\"font-weight: bold\"> Optimizer params: </span><span style=\"color: #00af00; text-decoration-color: #00af00\">2</span> (12.00 B)\n",
       "</pre>\n"
      ],
      "text/plain": [
       "\u001b[1m Optimizer params: \u001b[0m\u001b[38;5;34m2\u001b[0m (12.00 B)\n"
      ]
     },
     "metadata": {},
     "output_type": "display_data"
    }
   ],
   "source": [
    "model = load_model('simple_rnn_imdb.h5')\n",
    "model.summary()"
   ]
  },
  {
   "cell_type": "code",
   "execution_count": 47,
   "metadata": {},
   "outputs": [
    {
     "data": {
      "text/plain": [
       "[array([[-0.21611618,  0.08026266,  0.34510857, ...,  0.08721978,\n",
       "          0.08843262,  0.10190666],\n",
       "        [ 0.03194968, -0.0188429 ,  0.0407257 , ..., -0.00946989,\n",
       "         -0.00646316,  0.07730214],\n",
       "        [ 0.00602325,  0.02864673,  0.01429737, ...,  0.07212205,\n",
       "          0.0065705 ,  0.02077455],\n",
       "        ...,\n",
       "        [-0.02577656, -0.09085334,  0.0375242 , ..., -0.07373189,\n",
       "         -0.04652642, -0.10436307],\n",
       "        [ 0.04341089,  0.03895993, -0.04691214, ...,  0.06244503,\n",
       "          0.0305698 ,  0.01726963],\n",
       "        [-0.08746535, -0.06640238,  0.04688347, ...,  0.01990014,\n",
       "         -0.06868508, -0.11582319]], dtype=float32),\n",
       " array([[-0.02493492,  0.05819246,  0.00898927, ...,  0.06821785,\n",
       "          0.11826064,  0.0225853 ],\n",
       "        [-0.05935455, -0.05418731,  0.15647271, ...,  0.09833585,\n",
       "         -0.06199724,  0.05286047],\n",
       "        [-0.04013472, -0.09495284,  0.02397303, ...,  0.03826221,\n",
       "         -0.07913196,  0.0973365 ],\n",
       "        ...,\n",
       "        [-0.00881872,  0.02301592,  0.02739344, ..., -0.07474978,\n",
       "         -0.18032242, -0.03053676],\n",
       "        [-0.03439292, -0.1569135 , -0.05059423, ..., -0.01960623,\n",
       "         -0.07940479,  0.12600444],\n",
       "        [-0.16606124, -0.07371676, -0.05584896, ..., -0.1474452 ,\n",
       "          0.02231079, -0.03220101]], dtype=float32),\n",
       " array([[ 3.11132707e-02, -1.23062685e-01,  1.07763089e-01, ...,\n",
       "         -8.04469660e-02,  1.69201702e-01,  5.34303635e-02],\n",
       "        [-1.05504841e-01,  1.16323821e-01, -2.84340400e-02, ...,\n",
       "         -2.28814855e-02,  5.77208064e-02,  2.56076939e-02],\n",
       "        [-6.49075285e-02,  3.47559601e-02,  5.19798957e-02, ...,\n",
       "          9.83446315e-02,  2.30922215e-02, -1.09196678e-01],\n",
       "        ...,\n",
       "        [ 7.36427246e-05,  4.57832851e-02,  4.45339270e-02, ...,\n",
       "          3.14683132e-02, -8.82008970e-02,  3.94638535e-03],\n",
       "        [ 1.99473813e-01,  5.85038513e-02,  8.26540664e-02, ...,\n",
       "         -6.41920790e-02, -9.18442570e-03,  8.39649960e-02],\n",
       "        [-2.22130635e-04, -5.62825464e-02,  1.17752478e-02, ...,\n",
       "         -3.63402478e-02, -6.39977818e-03,  4.33228277e-02]], dtype=float32),\n",
       " array([ 5.24375262e-03,  8.51651095e-03,  2.34144479e-02,  3.37961838e-02,\n",
       "        -4.06866297e-02,  2.62578223e-02, -2.45088479e-03,  2.84265634e-02,\n",
       "         1.59835853e-02, -8.05987045e-03, -2.63740163e-04,  4.84568486e-03,\n",
       "        -3.20437625e-02, -3.91621552e-02, -1.99643373e-02, -5.45049831e-03,\n",
       "        -8.60323256e-04, -3.71978991e-02,  1.44019742e-02, -1.45342732e-02,\n",
       "        -1.34238331e-02,  3.67585160e-02, -1.77788138e-02,  2.77613141e-02,\n",
       "        -1.04861585e-02, -1.45253877e-03, -1.16267372e-02, -1.01671107e-02,\n",
       "        -5.05620474e-03,  1.50257945e-02, -3.31752710e-02, -1.85233168e-02,\n",
       "         2.79037170e-02, -1.80304982e-02, -1.83584094e-02, -1.05471760e-02,\n",
       "        -4.07211110e-02, -3.45569500e-03, -1.45968599e-02, -1.51201069e-01,\n",
       "         5.24734193e-03,  1.29605308e-02, -1.47899035e-02,  9.70900152e-03,\n",
       "        -8.88371747e-03, -1.62245221e-02,  2.46300865e-02, -2.67262254e-02,\n",
       "         3.44378292e-04, -1.93286184e-02,  1.13068484e-02,  1.79160852e-02,\n",
       "        -1.40504725e-03,  2.82626357e-02, -9.03032068e-03,  1.37514733e-02,\n",
       "        -1.30725205e-02, -9.49106738e-03,  5.38255787e-03, -3.47425826e-02,\n",
       "         1.56604461e-02,  2.16214526e-02,  1.08842971e-04, -9.29253548e-03,\n",
       "        -2.58579142e-02, -1.48435254e-02,  1.90420691e-02, -4.96726716e-04,\n",
       "         1.98921170e-02, -3.83441523e-02, -1.16560878e-02,  1.15251532e-02,\n",
       "         8.97669699e-03, -1.14569841e-02,  2.21809242e-02, -3.59054729e-02,\n",
       "        -3.35083567e-02,  3.02199908e-02,  3.81814688e-03,  1.57768168e-02,\n",
       "        -1.93477646e-02, -3.62412632e-02, -1.26370825e-02, -1.85648520e-02,\n",
       "         3.50228278e-03, -3.96150723e-02,  2.43854485e-02,  1.89249720e-02,\n",
       "        -1.94194485e-02, -1.76647529e-02, -1.53713515e-02, -1.82450432e-02,\n",
       "         3.88218910e-02, -1.23628555e-02, -1.23278890e-02, -2.05465574e-02,\n",
       "        -9.40671843e-03,  1.91580737e-03,  2.25272607e-02, -1.78328659e-02,\n",
       "        -1.97639186e-02, -8.87026638e-03, -2.16212915e-03, -2.45180242e-02,\n",
       "         2.32557636e-02,  2.93191653e-02,  2.13604420e-02,  1.85876861e-02,\n",
       "         1.99796855e-02, -1.53232645e-02, -1.72176231e-02,  6.38563652e-03,\n",
       "         1.36632994e-02,  6.82435092e-03,  1.25331385e-02, -1.78946890e-02,\n",
       "         2.08903495e-02,  2.11261818e-03,  2.17726752e-02,  2.16045491e-02,\n",
       "         4.38414738e-02, -2.84381751e-02,  2.84550581e-02,  8.47848970e-03,\n",
       "         2.40966901e-02, -1.58194453e-02, -2.14364622e-02, -1.43534644e-02],\n",
       "       dtype=float32),\n",
       " array([[ 0.16981693],\n",
       "        [ 0.21764608],\n",
       "        [-0.24724913],\n",
       "        [-0.05007972],\n",
       "        [ 0.14197123],\n",
       "        [-0.10445704],\n",
       "        [ 0.2495703 ],\n",
       "        [ 0.47495183],\n",
       "        [ 0.13447668],\n",
       "        [ 0.46122283],\n",
       "        [ 0.18412992],\n",
       "        [-0.16036108],\n",
       "        [-0.0354071 ],\n",
       "        [ 0.1014151 ],\n",
       "        [ 0.03172659],\n",
       "        [ 0.10211797],\n",
       "        [ 0.40850696],\n",
       "        [-0.11892121],\n",
       "        [-0.0013554 ],\n",
       "        [ 0.06674228],\n",
       "        [-0.10327117],\n",
       "        [-0.21435545],\n",
       "        [-0.12979217],\n",
       "        [-0.03329884],\n",
       "        [ 0.19734578],\n",
       "        [ 0.4412056 ],\n",
       "        [ 0.00471607],\n",
       "        [ 0.01638764],\n",
       "        [ 0.40730774],\n",
       "        [-0.1791408 ],\n",
       "        [-0.16357398],\n",
       "        [ 0.23629743],\n",
       "        [ 0.07663089],\n",
       "        [ 0.11581349],\n",
       "        [ 0.16900559],\n",
       "        [ 0.03018617],\n",
       "        [ 0.10016646],\n",
       "        [ 0.3763776 ],\n",
       "        [ 0.19160058],\n",
       "        [-0.14975217],\n",
       "        [ 0.5734022 ],\n",
       "        [-0.13640358],\n",
       "        [ 0.13777348],\n",
       "        [-0.15639056],\n",
       "        [ 0.1672825 ],\n",
       "        [ 0.13140263],\n",
       "        [ 0.14748472],\n",
       "        [ 0.10562976],\n",
       "        [ 0.5767413 ],\n",
       "        [ 0.10830362],\n",
       "        [ 0.11611345],\n",
       "        [-0.1372943 ],\n",
       "        [-0.01650123],\n",
       "        [ 0.21391498],\n",
       "        [ 0.24231403],\n",
       "        [-0.17471807],\n",
       "        [ 0.23697342],\n",
       "        [ 0.3027854 ],\n",
       "        [ 0.18523854],\n",
       "        [-0.16311204],\n",
       "        [ 1.0545274 ],\n",
       "        [-0.21160689],\n",
       "        [ 0.00197418],\n",
       "        [ 0.20774645],\n",
       "        [-0.19347996],\n",
       "        [ 0.05291723],\n",
       "        [-0.19929506],\n",
       "        [ 0.14124873],\n",
       "        [-0.21728319],\n",
       "        [-0.1679927 ],\n",
       "        [ 0.21759018],\n",
       "        [-0.09022833],\n",
       "        [-0.16107665],\n",
       "        [ 0.2168679 ],\n",
       "        [-0.18383007],\n",
       "        [-0.19610508],\n",
       "        [ 0.11151744],\n",
       "        [-0.19306377],\n",
       "        [-0.19579516],\n",
       "        [ 0.22529538],\n",
       "        [ 0.17834881],\n",
       "        [-0.1027287 ],\n",
       "        [ 0.22351478],\n",
       "        [ 0.24012576],\n",
       "        [ 0.17225951],\n",
       "        [-0.16927633],\n",
       "        [-0.05440902],\n",
       "        [ 0.10835726],\n",
       "        [ 0.25905448],\n",
       "        [ 0.02473737],\n",
       "        [ 0.18170004],\n",
       "        [ 0.02120246],\n",
       "        [-0.12789561],\n",
       "        [ 0.08307936],\n",
       "        [ 0.10023641],\n",
       "        [ 0.00808433],\n",
       "        [ 0.20504351],\n",
       "        [-0.05804389],\n",
       "        [-0.05075173],\n",
       "        [-0.0754736 ],\n",
       "        [-0.06417628],\n",
       "        [-0.14746048],\n",
       "        [ 0.52351195],\n",
       "        [-0.03794679],\n",
       "        [ 0.11704016],\n",
       "        [-0.23639643],\n",
       "        [ 0.20819464],\n",
       "        [ 0.2580021 ],\n",
       "        [-0.15525295],\n",
       "        [-0.06769834],\n",
       "        [ 0.52295303],\n",
       "        [ 0.20236789],\n",
       "        [-0.0301821 ],\n",
       "        [ 0.17071526],\n",
       "        [ 0.46340352],\n",
       "        [-0.14483804],\n",
       "        [-0.08245242],\n",
       "        [ 0.10533861],\n",
       "        [ 0.10010541],\n",
       "        [ 0.00914394],\n",
       "        [-0.0511193 ],\n",
       "        [ 0.16682963],\n",
       "        [-0.14517438],\n",
       "        [ 0.10233033],\n",
       "        [-0.13181607],\n",
       "        [ 0.08068528],\n",
       "        [-0.09185703],\n",
       "        [ 0.09914289]], dtype=float32),\n",
       " array([0.63060737], dtype=float32)]"
      ]
     },
     "execution_count": 47,
     "metadata": {},
     "output_type": "execute_result"
    }
   ],
   "source": [
    "model.get_weights()"
   ]
  },
  {
   "cell_type": "code",
   "execution_count": 48,
   "metadata": {},
   "outputs": [],
   "source": [
    "## Helper function\n",
    "\n",
    "def decode_review(encoded_review):\n",
    "    return ' '.join([reverse_word_index.get(i -3, '?') for i in encoded_review])\n",
    "\n",
    "# function to preprocess user input\n",
    "\n",
    "def preprocess_text(text):\n",
    "    words = text.lower().split()\n",
    "    encoded_review = [word_index.get(word,2) + 3 for word in words]\n",
    "    padded_review = sequence.pad_sequences([encoded_review],maxlen=500)\n",
    "    return padded_review"
   ]
  },
  {
   "cell_type": "code",
   "execution_count": 49,
   "metadata": {},
   "outputs": [],
   "source": [
    "### prediction function\n",
    "\n",
    "def predict_sentiment(review):\n",
    "    preprocessed_input = preprocess_text(review)\n",
    "\n",
    "    prediction = model.predict(preprocessed_input)\n",
    "\n",
    "    sentiment = 'Positive' if prediction[0][0] > 0.5 else 'Negative'\n",
    "\n",
    "    return sentiment,prediction[0][0]"
   ]
  },
  {
   "cell_type": "code",
   "execution_count": 50,
   "metadata": {},
   "outputs": [
    {
     "name": "stdout",
     "output_type": "stream",
     "text": [
      "WARNING:tensorflow:6 out of the last 7 calls to <function TensorFlowTrainer.make_predict_function.<locals>.one_step_on_data_distributed at 0x00000232C95E9FC0> triggered tf.function retracing. Tracing is expensive and the excessive number of tracings could be due to (1) creating @tf.function repeatedly in a loop, (2) passing tensors with different shapes, (3) passing Python objects instead of tensors. For (1), please define your @tf.function outside of the loop. For (2), @tf.function has reduce_retracing=True option that can avoid unnecessary retracing. For (3), please refer to https://www.tensorflow.org/guide/function#controlling_retracing and https://www.tensorflow.org/api_docs/python/tf/function for  more details.\n"
     ]
    },
    {
     "name": "stderr",
     "output_type": "stream",
     "text": [
      "WARNING:tensorflow:6 out of the last 7 calls to <function TensorFlowTrainer.make_predict_function.<locals>.one_step_on_data_distributed at 0x00000232C95E9FC0> triggered tf.function retracing. Tracing is expensive and the excessive number of tracings could be due to (1) creating @tf.function repeatedly in a loop, (2) passing tensors with different shapes, (3) passing Python objects instead of tensors. For (1), please define your @tf.function outside of the loop. For (2), @tf.function has reduce_retracing=True option that can avoid unnecessary retracing. For (3), please refer to https://www.tensorflow.org/guide/function#controlling_retracing and https://www.tensorflow.org/api_docs/python/tf/function for  more details.\n"
     ]
    },
    {
     "name": "stdout",
     "output_type": "stream",
     "text": [
      "\u001b[1m1/1\u001b[0m \u001b[32m━━━━━━━━━━━━━━━━━━━━\u001b[0m\u001b[37m\u001b[0m \u001b[1m2s\u001b[0m 2s/step\n",
      "Review: This movie was fantastic! The acting was great and the plot was thrilling.\n",
      "Sentiment: Positive\n",
      "Prediction Score: 0.7959573268890381\n"
     ]
    }
   ],
   "source": [
    "# Example review for prediction\n",
    "\n",
    "example_review = \"This movie was fantastic! The acting was great and the plot was thrilling.\"\n",
    "\n",
    "sentiment,score = predict_sentiment(example_review)\n",
    "\n",
    "print(f'Review: {example_review}')\n",
    "print(f'Sentiment: {sentiment}')\n",
    "print(f'Prediction Score: {score}')\n",
    "\n"
   ]
  },
  {
   "cell_type": "code",
   "execution_count": null,
   "metadata": {},
   "outputs": [],
   "source": []
  }
 ],
 "metadata": {
  "kernelspec": {
   "display_name": "Python 3",
   "language": "python",
   "name": "python3"
  },
  "language_info": {
   "codemirror_mode": {
    "name": "ipython",
    "version": 3
   },
   "file_extension": ".py",
   "mimetype": "text/x-python",
   "name": "python",
   "nbconvert_exporter": "python",
   "pygments_lexer": "ipython3",
   "version": "3.10.0"
  }
 },
 "nbformat": 4,
 "nbformat_minor": 2
}
