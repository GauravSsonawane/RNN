{
 "cells": [
  {
   "cell_type": "code",
   "execution_count": 1,
   "metadata": {},
   "outputs": [],
   "source": [
    "# Step 1 Import Lib and load the model\n",
    "\n",
    "import numpy as np\n",
    "import tensorflow as tf\n",
    "from tensorflow.keras.datasets import imdb\n",
    "from tensorflow.keras.preprocessing import sequence\n",
    "from tensorflow.keras.models import load_model"
   ]
  },
  {
   "cell_type": "code",
   "execution_count": 2,
   "metadata": {},
   "outputs": [],
   "source": [
    "# Load the IMDB word index\n",
    "\n",
    "word_index = imdb.get_word_index()\n",
    "reverse_word_index = {value: key for key, value in word_index.items() }"
   ]
  },
  {
   "cell_type": "code",
   "execution_count": 4,
   "metadata": {},
   "outputs": [
    {
     "name": "stderr",
     "output_type": "stream",
     "text": [
      "WARNING:absl:Compiled the loaded model, but the compiled metrics have yet to be built. `model.compile_metrics` will be empty until you train or evaluate the model.\n"
     ]
    },
    {
     "data": {
      "text/html": [
       "<pre style=\"white-space:pre;overflow-x:auto;line-height:normal;font-family:Menlo,'DejaVu Sans Mono',consolas,'Courier New',monospace\"><span style=\"font-weight: bold\">Model: \"sequential\"</span>\n",
       "</pre>\n"
      ],
      "text/plain": [
       "\u001b[1mModel: \"sequential\"\u001b[0m\n"
      ]
     },
     "metadata": {},
     "output_type": "display_data"
    },
    {
     "data": {
      "text/html": [
       "<pre style=\"white-space:pre;overflow-x:auto;line-height:normal;font-family:Menlo,'DejaVu Sans Mono',consolas,'Courier New',monospace\">┏━━━━━━━━━━━━━━━━━━━━━━━━━━━━━━━━━┳━━━━━━━━━━━━━━━━━━━━━━━━┳━━━━━━━━━━━━━━━┓\n",
       "┃<span style=\"font-weight: bold\"> Layer (type)                    </span>┃<span style=\"font-weight: bold\"> Output Shape           </span>┃<span style=\"font-weight: bold\">       Param # </span>┃\n",
       "┡━━━━━━━━━━━━━━━━━━━━━━━━━━━━━━━━━╇━━━━━━━━━━━━━━━━━━━━━━━━╇━━━━━━━━━━━━━━━┩\n",
       "│ embedding (<span style=\"color: #0087ff; text-decoration-color: #0087ff\">Embedding</span>)           │ (<span style=\"color: #00af00; text-decoration-color: #00af00\">32</span>, <span style=\"color: #00af00; text-decoration-color: #00af00\">500</span>, <span style=\"color: #00af00; text-decoration-color: #00af00\">128</span>)         │     <span style=\"color: #00af00; text-decoration-color: #00af00\">1,280,000</span> │\n",
       "├─────────────────────────────────┼────────────────────────┼───────────────┤\n",
       "│ simple_rnn (<span style=\"color: #0087ff; text-decoration-color: #0087ff\">SimpleRNN</span>)          │ (<span style=\"color: #00af00; text-decoration-color: #00af00\">32</span>, <span style=\"color: #00af00; text-decoration-color: #00af00\">128</span>)              │        <span style=\"color: #00af00; text-decoration-color: #00af00\">32,896</span> │\n",
       "├─────────────────────────────────┼────────────────────────┼───────────────┤\n",
       "│ dense (<span style=\"color: #0087ff; text-decoration-color: #0087ff\">Dense</span>)                   │ (<span style=\"color: #00af00; text-decoration-color: #00af00\">32</span>, <span style=\"color: #00af00; text-decoration-color: #00af00\">1</span>)                │           <span style=\"color: #00af00; text-decoration-color: #00af00\">129</span> │\n",
       "└─────────────────────────────────┴────────────────────────┴───────────────┘\n",
       "</pre>\n"
      ],
      "text/plain": [
       "┏━━━━━━━━━━━━━━━━━━━━━━━━━━━━━━━━━┳━━━━━━━━━━━━━━━━━━━━━━━━┳━━━━━━━━━━━━━━━┓\n",
       "┃\u001b[1m \u001b[0m\u001b[1mLayer (type)                   \u001b[0m\u001b[1m \u001b[0m┃\u001b[1m \u001b[0m\u001b[1mOutput Shape          \u001b[0m\u001b[1m \u001b[0m┃\u001b[1m \u001b[0m\u001b[1m      Param #\u001b[0m\u001b[1m \u001b[0m┃\n",
       "┡━━━━━━━━━━━━━━━━━━━━━━━━━━━━━━━━━╇━━━━━━━━━━━━━━━━━━━━━━━━╇━━━━━━━━━━━━━━━┩\n",
       "│ embedding (\u001b[38;5;33mEmbedding\u001b[0m)           │ (\u001b[38;5;34m32\u001b[0m, \u001b[38;5;34m500\u001b[0m, \u001b[38;5;34m128\u001b[0m)         │     \u001b[38;5;34m1,280,000\u001b[0m │\n",
       "├─────────────────────────────────┼────────────────────────┼───────────────┤\n",
       "│ simple_rnn (\u001b[38;5;33mSimpleRNN\u001b[0m)          │ (\u001b[38;5;34m32\u001b[0m, \u001b[38;5;34m128\u001b[0m)              │        \u001b[38;5;34m32,896\u001b[0m │\n",
       "├─────────────────────────────────┼────────────────────────┼───────────────┤\n",
       "│ dense (\u001b[38;5;33mDense\u001b[0m)                   │ (\u001b[38;5;34m32\u001b[0m, \u001b[38;5;34m1\u001b[0m)                │           \u001b[38;5;34m129\u001b[0m │\n",
       "└─────────────────────────────────┴────────────────────────┴───────────────┘\n"
      ]
     },
     "metadata": {},
     "output_type": "display_data"
    },
    {
     "data": {
      "text/html": [
       "<pre style=\"white-space:pre;overflow-x:auto;line-height:normal;font-family:Menlo,'DejaVu Sans Mono',consolas,'Courier New',monospace\"><span style=\"font-weight: bold\"> Total params: </span><span style=\"color: #00af00; text-decoration-color: #00af00\">1,313,027</span> (5.01 MB)\n",
       "</pre>\n"
      ],
      "text/plain": [
       "\u001b[1m Total params: \u001b[0m\u001b[38;5;34m1,313,027\u001b[0m (5.01 MB)\n"
      ]
     },
     "metadata": {},
     "output_type": "display_data"
    },
    {
     "data": {
      "text/html": [
       "<pre style=\"white-space:pre;overflow-x:auto;line-height:normal;font-family:Menlo,'DejaVu Sans Mono',consolas,'Courier New',monospace\"><span style=\"font-weight: bold\"> Trainable params: </span><span style=\"color: #00af00; text-decoration-color: #00af00\">1,313,025</span> (5.01 MB)\n",
       "</pre>\n"
      ],
      "text/plain": [
       "\u001b[1m Trainable params: \u001b[0m\u001b[38;5;34m1,313,025\u001b[0m (5.01 MB)\n"
      ]
     },
     "metadata": {},
     "output_type": "display_data"
    },
    {
     "data": {
      "text/html": [
       "<pre style=\"white-space:pre;overflow-x:auto;line-height:normal;font-family:Menlo,'DejaVu Sans Mono',consolas,'Courier New',monospace\"><span style=\"font-weight: bold\"> Non-trainable params: </span><span style=\"color: #00af00; text-decoration-color: #00af00\">0</span> (0.00 B)\n",
       "</pre>\n"
      ],
      "text/plain": [
       "\u001b[1m Non-trainable params: \u001b[0m\u001b[38;5;34m0\u001b[0m (0.00 B)\n"
      ]
     },
     "metadata": {},
     "output_type": "display_data"
    },
    {
     "data": {
      "text/html": [
       "<pre style=\"white-space:pre;overflow-x:auto;line-height:normal;font-family:Menlo,'DejaVu Sans Mono',consolas,'Courier New',monospace\"><span style=\"font-weight: bold\"> Optimizer params: </span><span style=\"color: #00af00; text-decoration-color: #00af00\">2</span> (12.00 B)\n",
       "</pre>\n"
      ],
      "text/plain": [
       "\u001b[1m Optimizer params: \u001b[0m\u001b[38;5;34m2\u001b[0m (12.00 B)\n"
      ]
     },
     "metadata": {},
     "output_type": "display_data"
    }
   ],
   "source": [
    "model = load_model('simple_rnn_imdb.h5')\n",
    "model.summary()"
   ]
  },
  {
   "cell_type": "code",
   "execution_count": 5,
   "metadata": {},
   "outputs": [
    {
     "data": {
      "text/plain": [
       "[array([[-0.5303963 , -0.5636297 ,  0.38391978, ...,  0.48868865,\n",
       "         -0.5580399 , -0.53267187],\n",
       "        [ 0.01206446, -0.0228026 ,  0.01222398, ..., -0.01893302,\n",
       "         -0.05230259, -0.07321312],\n",
       "        [-0.06545106, -0.00724285, -0.0610051 , ..., -0.02828518,\n",
       "         -0.03511893, -0.00082261],\n",
       "        ...,\n",
       "        [ 0.06600365,  0.01103485,  0.01855573, ..., -0.00554451,\n",
       "          0.06942036,  0.0831063 ],\n",
       "        [ 0.09523252,  0.06126134,  0.00494284, ..., -0.01853805,\n",
       "          0.05577675,  0.05445437],\n",
       "        [-0.03257425, -0.00743457,  0.10614329, ...,  0.01518379,\n",
       "         -0.07135751, -0.00740963]], dtype=float32),\n",
       " array([[ 0.0171349 ,  0.01384722,  0.15650895, ..., -0.02042669,\n",
       "          0.10711214, -0.11206474],\n",
       "        [ 0.00311091, -0.10633881,  0.0107802 , ...,  0.13533264,\n",
       "         -0.06000029, -0.1362529 ],\n",
       "        [ 0.13203181, -0.1049914 , -0.03639425, ..., -0.12506093,\n",
       "         -0.03339031, -0.00827982],\n",
       "        ...,\n",
       "        [ 0.04838762, -0.07972784, -0.05898937, ...,  0.12510134,\n",
       "         -0.03325068,  0.12724516],\n",
       "        [-0.01400368,  0.1440954 ,  0.0984275 , ..., -0.03193319,\n",
       "          0.14963587,  0.08003917],\n",
       "        [-0.04628218,  0.11189758,  0.27853006, ...,  0.11705811,\n",
       "         -0.06352776,  0.14490625]], dtype=float32),\n",
       " array([[ 0.1341042 , -0.16195549, -0.03113544, ..., -0.22875345,\n",
       "         -0.02478117, -0.1434663 ],\n",
       "        [ 0.08340365,  0.02935657,  0.09861176, ...,  0.02610835,\n",
       "         -0.03849641,  0.06729675],\n",
       "        [-0.02388259,  0.1968244 ,  0.2013817 , ...,  0.06650295,\n",
       "         -0.03781941,  0.03500113],\n",
       "        ...,\n",
       "        [-0.00464241, -0.11680686, -0.05707338, ..., -0.03292547,\n",
       "          0.12008744, -0.07724394],\n",
       "        [-0.04425831,  0.03726426,  0.06059486, ..., -0.03350653,\n",
       "         -0.05099042,  0.04098307],\n",
       "        [-0.06979247,  0.04392787, -0.03547239, ..., -0.11635385,\n",
       "         -0.07276557, -0.05956995]], dtype=float32),\n",
       " array([ 0.00872669, -0.00839788,  0.05806714,  0.00808842, -0.04046646,\n",
       "         0.01276918, -0.0030465 , -0.00177492,  0.02272478, -0.02176568,\n",
       "        -0.01529681, -0.01003618,  0.00092713, -0.01444059, -0.00436265,\n",
       "         0.00430858, -0.00488862,  0.00583448, -0.01901889, -0.01510518,\n",
       "         0.00075591,  0.00944653, -0.01368904,  0.01046993,  0.00441612,\n",
       "         0.02452418, -0.01797172, -0.04482769,  0.00898232, -0.02416995,\n",
       "         0.00615618,  0.01609294, -0.00386566,  0.00776802, -0.05860693,\n",
       "         0.00057291, -0.01125339,  0.00689251, -0.01836758, -0.00358627,\n",
       "         0.020011  , -0.02642128,  0.00567726, -0.00415688, -0.00291162,\n",
       "        -0.00642705, -0.00423581, -0.00110705, -0.00561439, -0.01148966,\n",
       "        -0.00790534,  0.01164149, -0.01449164, -0.00699566, -0.01998071,\n",
       "        -0.00532369,  0.00759571, -0.00610093,  0.00938457,  0.00597969,\n",
       "        -0.01106031, -0.02590596, -0.00407761, -0.0014354 , -0.01258573,\n",
       "         0.01605904, -0.00991917,  0.00254752,  0.00753122,  0.00169277,\n",
       "        -0.01775506,  0.02596578, -0.00912217, -0.04489335, -0.01047118,\n",
       "         0.00365847,  0.00058254, -0.01017814,  0.01325543, -0.01885079,\n",
       "        -0.00030766, -0.01691029,  0.01603684,  0.02130294,  0.02128747,\n",
       "        -0.0188939 ,  0.00256085, -0.01760073, -0.05630008,  0.00612416,\n",
       "        -0.01601484, -0.00120117, -0.00028206, -0.0041695 , -0.00066638,\n",
       "        -0.01440817, -0.00637157, -0.01990926, -0.009028  , -0.03157629,\n",
       "        -0.01696744,  0.00675063, -0.00053613,  0.00324683, -0.0093968 ,\n",
       "        -0.01547217, -0.00776009, -0.01125498, -0.00774918,  0.01357037,\n",
       "        -0.00289482, -0.01290986,  0.02375635,  0.01217509,  0.001677  ,\n",
       "        -0.0008281 ,  0.01256434,  0.0051472 ,  0.00077016, -0.00758773,\n",
       "         0.00499642, -0.00689036,  0.01738987, -0.00131279, -0.00127345,\n",
       "        -0.00423841,  0.01099857, -0.00944249], dtype=float32),\n",
       " array([[ 0.12807862],\n",
       "        [-0.08359153],\n",
       "        [-0.2562077 ],\n",
       "        [ 0.14933045],\n",
       "        [-0.21757106],\n",
       "        [-0.0653975 ],\n",
       "        [-0.18012258],\n",
       "        [ 0.01125092],\n",
       "        [-0.15897542],\n",
       "        [-0.032036  ],\n",
       "        [ 0.2050066 ],\n",
       "        [-0.17921717],\n",
       "        [ 0.08376488],\n",
       "        [ 0.13482821],\n",
       "        [-0.1779015 ],\n",
       "        [-0.21430594],\n",
       "        [-0.2757025 ],\n",
       "        [ 0.17914844],\n",
       "        [ 0.12149512],\n",
       "        [-0.89294344],\n",
       "        [ 0.15048584],\n",
       "        [ 0.05588587],\n",
       "        [ 0.08499978],\n",
       "        [ 0.07753968],\n",
       "        [-0.17175244],\n",
       "        [ 0.07749071],\n",
       "        [-0.13136092],\n",
       "        [-0.20026895],\n",
       "        [ 0.47067264],\n",
       "        [-0.3576636 ],\n",
       "        [ 0.18555932],\n",
       "        [-0.18804424],\n",
       "        [ 0.09550551],\n",
       "        [-1.301221  ],\n",
       "        [-0.20371823],\n",
       "        [-0.14988747],\n",
       "        [ 0.04196044],\n",
       "        [ 0.17219299],\n",
       "        [-0.01206549],\n",
       "        [-0.11819144],\n",
       "        [-0.1825575 ],\n",
       "        [-0.16836916],\n",
       "        [-0.22778422],\n",
       "        [-0.16840585],\n",
       "        [-0.06505609],\n",
       "        [-0.2858321 ],\n",
       "        [ 0.23022398],\n",
       "        [ 0.20972106],\n",
       "        [ 0.6014768 ],\n",
       "        [ 0.05804074],\n",
       "        [-0.21348518],\n",
       "        [ 0.04811331],\n",
       "        [ 0.11854603],\n",
       "        [ 0.27579662],\n",
       "        [-0.00852788],\n",
       "        [ 0.0543901 ],\n",
       "        [-0.02931349],\n",
       "        [ 0.0399232 ],\n",
       "        [ 0.14560649],\n",
       "        [ 0.23839067],\n",
       "        [ 0.13102955],\n",
       "        [ 0.1189739 ],\n",
       "        [ 1.01121   ],\n",
       "        [-0.03576102],\n",
       "        [-0.0462754 ],\n",
       "        [ 0.22732514],\n",
       "        [-0.11550184],\n",
       "        [ 0.01868981],\n",
       "        [ 0.15967944],\n",
       "        [ 0.21124525],\n",
       "        [-0.14585395],\n",
       "        [ 0.40796837],\n",
       "        [ 0.03594344],\n",
       "        [-0.15160814],\n",
       "        [-0.1504884 ],\n",
       "        [ 0.03514559],\n",
       "        [ 0.00420073],\n",
       "        [ 0.4278519 ],\n",
       "        [ 0.7933987 ],\n",
       "        [-0.20915197],\n",
       "        [ 0.20594235],\n",
       "        [ 0.07043029],\n",
       "        [-0.12674344],\n",
       "        [ 0.22755915],\n",
       "        [ 0.23876497],\n",
       "        [ 0.3280314 ],\n",
       "        [ 0.06021274],\n",
       "        [-0.19199148],\n",
       "        [ 0.07045787],\n",
       "        [-0.12090992],\n",
       "        [-0.10526471],\n",
       "        [-0.8708947 ],\n",
       "        [-0.06708384],\n",
       "        [-0.03994241],\n",
       "        [-0.08821151],\n",
       "        [ 0.18542671],\n",
       "        [-0.19610202],\n",
       "        [-0.27924824],\n",
       "        [-0.04955783],\n",
       "        [-0.16021405],\n",
       "        [ 0.05299283],\n",
       "        [ 0.169839  ],\n",
       "        [-0.6448802 ],\n",
       "        [ 0.22208245],\n",
       "        [-0.1930432 ],\n",
       "        [ 0.14225101],\n",
       "        [-0.2115306 ],\n",
       "        [-0.19798592],\n",
       "        [-0.06915233],\n",
       "        [ 0.1747496 ],\n",
       "        [ 0.20568022],\n",
       "        [-0.09192407],\n",
       "        [ 0.04858778],\n",
       "        [-0.02552723],\n",
       "        [ 0.15013583],\n",
       "        [ 0.11267158],\n",
       "        [ 0.22677983],\n",
       "        [-0.23704709],\n",
       "        [ 0.29552418],\n",
       "        [ 0.36767027],\n",
       "        [ 0.04451361],\n",
       "        [-0.11883669],\n",
       "        [ 0.18650986],\n",
       "        [ 0.19167583],\n",
       "        [-0.17490038],\n",
       "        [ 0.03585663],\n",
       "        [-0.06189682],\n",
       "        [-0.0648992 ]], dtype=float32),\n",
       " array([-0.22434665], dtype=float32)]"
      ]
     },
     "execution_count": 5,
     "metadata": {},
     "output_type": "execute_result"
    }
   ],
   "source": [
    "model.get_weights()"
   ]
  },
  {
   "cell_type": "code",
   "execution_count": null,
   "metadata": {},
   "outputs": [],
   "source": []
  }
 ],
 "metadata": {
  "kernelspec": {
   "display_name": "Python 3",
   "language": "python",
   "name": "python3"
  },
  "language_info": {
   "codemirror_mode": {
    "name": "ipython",
    "version": 3
   },
   "file_extension": ".py",
   "mimetype": "text/x-python",
   "name": "python",
   "nbconvert_exporter": "python",
   "pygments_lexer": "ipython3",
   "version": "3.10.0"
  }
 },
 "nbformat": 4,
 "nbformat_minor": 2
}
